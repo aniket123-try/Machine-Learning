{
 "cells": [
  {
   "cell_type": "markdown",
   "metadata": {},
   "source": [
    "Write a function so that the columns of the output matrix are powers of the input\n",
    "vector.\n",
    "The order of the powers is determined by the increasing boolean argument. Specifically, when\n",
    "increasing is False, the i-th output column is the input vector raised element-wise to the power\n",
    "of N - i - 1.\n",
    "\n",
    "HINT: Such a matrix with a geometric progression in each row is named for Alexandre-\n",
    "Theophile Vandermonde."
   ]
  },
  {
   "cell_type": "code",
   "execution_count": 1,
   "metadata": {},
   "outputs": [
    {
     "name": "stdout",
     "output_type": "stream",
     "text": [
      "with decreasing \n",
      "--------------------------------------------------\n",
      "[[ 1  1  1  1]\n",
      " [ 8  4  2  1]\n",
      " [27  9  3  1]]\n",
      "with increasing \n",
      "--------------------------------------------------\n",
      "[[ 1  1  1  1]\n",
      " [ 1  2  4  8]\n",
      " [ 1  3  9 27]]\n"
     ]
    }
   ],
   "source": [
    "import numpy as np\n",
    "\n",
    "def aVandermonde(l, N, increasing = False):\n",
    "    if increasing:\n",
    "        print(np.array([ j** i for j in l for i in range(N)]).reshape(len(l), N))\n",
    "    else:\n",
    "        print(np.array([ j** (N-1-i) for j in l for i in range(N)]).reshape(len(l), N))\n",
    "        \n",
    "mylst = [1,2,3]\n",
    "N = 4\n",
    "print('with decreasing ')\n",
    "print('-'*50)\n",
    "aVandermonde(np.array(mylst),N)\n",
    "print('with increasing ')\n",
    "print('-'*50)\n",
    "aVandermonde(np.array(mylst),N, increasing= True)"
   ]
  },
  {
   "cell_type": "markdown",
   "metadata": {},
   "source": [
    "Problem Statement 2:\n",
    "Given a sequence of n values x1, x2, ..., xn and a window size k>0, the k-th moving average of\n",
    "the given sequence is defined as follows:\n",
    "The moving average sequence has n-k+1 elements as shown below.\n",
    "The moving averages with k=4 of a ten-value sequence (n=10) is shown below\n",
    "i 1 2 3 4 5 6 7 8 9 10\n",
    "===== == == == == == == == == == ==\n",
    "Input 10 20 30 40 50 60 70 80 90 100\n",
    "y1 25 = (10+20+30+40)/4\n",
    "y2 35 = (20+30+40+50)/4\n",
    "y3 45 = (30+40+50+60)/4\n",
    "y4 55 = (40+50+60+70)/4\n",
    "y5 65 = (50+60+70+80)/4\n",
    "y6 75 = (60+70+80+90)/4\n",
    "y7 85 = (70+80+90+100)/4\n",
    "Thus, the moving average sequence has n-k+1=10-4+1=7 values.\n",
    "\n",
    "Question: Write a function to find moving average in an array over a window:\n",
    "Test it over [3, 5, 7, 2, 8, 10, 11, 65, 72, 81, 99, 100, 150] and window of 3."
   ]
  },
  {
   "cell_type": "code",
   "execution_count": 10,
   "metadata": {},
   "outputs": [],
   "source": [
    "def moving_avg(input_seq,window):\n",
    "    a = len(input_seq)-window+1\n",
    "    result =[]\n",
    "    for i in range(len(input_seq)):\n",
    "        if i < a:\n",
    "            result.append((input_seq[i]+input_seq[i+1]+input_seq[i+2])/window)\n",
    "        else:\n",
    "            break\n",
    "    for i in range(a):\n",
    "        print('y{} : {:.2f}'.format(i+1,result[i]))"
   ]
  },
  {
   "cell_type": "code",
   "execution_count": 11,
   "metadata": {},
   "outputs": [
    {
     "name": "stdout",
     "output_type": "stream",
     "text": [
      "y1 : 5.00\n",
      "y2 : 4.67\n",
      "y3 : 5.67\n",
      "y4 : 6.67\n",
      "y5 : 9.67\n",
      "y6 : 28.67\n",
      "y7 : 49.33\n",
      "y8 : 72.67\n",
      "y9 : 84.00\n",
      "y10 : 93.33\n",
      "y11 : 116.33\n"
     ]
    }
   ],
   "source": [
    "input_seq = [3, 5, 7, 2, 8, 10, 11, 65, 72, 81, 99, 100, 150]\n",
    "window = 3\n",
    "moving_avg(input_seq,window)"
   ]
  },
  {
   "cell_type": "code",
   "execution_count": null,
   "metadata": {},
   "outputs": [],
   "source": []
  }
 ],
 "metadata": {
  "kernelspec": {
   "display_name": "Python 3",
   "language": "python",
   "name": "python3"
  },
  "language_info": {
   "codemirror_mode": {
    "name": "ipython",
    "version": 3
   },
   "file_extension": ".py",
   "mimetype": "text/x-python",
   "name": "python",
   "nbconvert_exporter": "python",
   "pygments_lexer": "ipython3",
   "version": "3.7.4"
  }
 },
 "nbformat": 4,
 "nbformat_minor": 2
}
